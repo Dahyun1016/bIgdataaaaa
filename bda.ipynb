{
  "nbformat": 4,
  "nbformat_minor": 0,
  "metadata": {
    "colab": {
      "provenance": []
    },
    "kernelspec": {
      "name": "python3",
      "display_name": "Python 3"
    },
    "language_info": {
      "name": "python"
    }
  },
  "cells": [
    {
      "cell_type": "markdown",
      "source": [
        "## 데이터 로드"
      ],
      "metadata": {
        "id": "Zun6y8MECpAa"
      }
    },
    {
      "cell_type": "code",
      "execution_count": 45,
      "metadata": {
        "id": "AhQlmqhzxt0c"
      },
      "outputs": [],
      "source": [
        "file_paths = {\n",
        "    \"bus_boarding_info\": \"버스승하차인원정보.csv\",\n",
        "    \"bus_stop_location\": \"버스정류소위치정보.csv\",\n",
        "    \"subway_congestion\": \"역별시간대혼잡도.csv\",\n",
        "    \"subway_boarding_info\": \"지하철승하차인원정보.csv\"\n",
        "}"
      ]
    },
    {
      "cell_type": "code",
      "source": [
        "import pandas as pd\n",
        "try:\n",
        "  bus_boarding_info = pd.read_csv(file_paths[\"bus_boarding_info\"], low_memory=False, encoding='cp949')\n",
        "  bus_stop_location = pd.read_csv(file_paths[\"bus_stop_location\"])\n",
        "  subway_congestion = pd.read_csv(file_paths[\"subway_congestion\"])\n",
        "  subway_boarding_info = pd.read_csv(file_paths[\"subway_boarding_info\"])\n",
        "  # 데이터셋 확인\n",
        "  print(\"버스 승하차 정보 열 이름:\", bus_boarding_info.columns)\n",
        "  print(\"버스 정류소 위치 정보 열 이름:\", bus_stop_location.columns)\n",
        "  print(\"지하철 혼잡도 정보 열 이름:\", subway_congestion.columns)\n",
        "  print(\"지하철 승하차 정보 열 이름:\", subway_boarding_info.columns)\n",
        "except FileNotFoundError as e:\n",
        "  print(f\"File not found: {e.filename}\")"
      ],
      "metadata": {
        "colab": {
          "base_uri": "https://localhost:8080/"
        },
        "id": "j-v3CvkUx2zW",
        "outputId": "79cfd24e-a1c9-4caa-a4a3-e5820efa0be0"
      },
      "execution_count": 53,
      "outputs": [
        {
          "output_type": "stream",
          "name": "stdout",
          "text": [
            "버스 승하차 정보 열 이름: Index(['사용년월', '노선번호', '노선명', '표준버스정류장ID', '버스정류장ARS번호', '역명', '24시승차총승객수',\n",
            "       '24시하차총승객수', '1시승차총승객수', '1시하차총승객수', '2시승차총승객수', '2시하차총승객수', '3시승차총승객수',\n",
            "       '3시하차총승객수', '4시승차총승객수', '4시하차총승객수', '5시승차총승객수', '5시하차총승객수', '6시승차총승객수',\n",
            "       '6시하차총승객수', '7시승차총승객수', '7시하차총승객수', '8시승차총승객수', '8시하차총승객수', '9시승차총승객수',\n",
            "       '9시하차총승객수', '10시승차총승객수', '10시하차총승객수', '11시승차총승객수', '11시하차총승객수',\n",
            "       '12시승차총승객수', '12시하차총승객수', '13시승차총승객수', '13시하차총승객수', '14시승차총승객수',\n",
            "       '14시하차총승객수', '15시승차총승객수', '15시하차총승객수', '16시승차총승객수', '16시하차총승객수',\n",
            "       '17시승차총승객수', '17시하차총승객수', '18시승차총승객수', '18시하차총승객수', '19시승차총승객수',\n",
            "       '19시하차총승객수', '20시승차총승객수', '20시하차총승객수', '21시승차총승객수', '21시하차총승객수',\n",
            "       '22시승차총승객수', '22시하차총승객수', '23시승차총승객수', '23시하차총승객수', '교통수단타입코드',\n",
            "       '교통수단타입명', '등록일자'],\n",
            "      dtype='object')\n",
            "버스 정류소 위치 정보 열 이름: Index(['STDR_DE', 'NODE_ID', 'STTN_NO', 'STTN_NM', 'CRDNT_X', 'CRDNT_Y',\n",
            "       'STTN_TY', 'Unnamed: 7'],\n",
            "      dtype='object')\n",
            "지하철 혼잡도 정보 열 이름: Index(['연번', '요일구분', '호선', '역번호', '출발역', '상하구분', '5시30분', '6시00분', '6시30분',\n",
            "       '7시00분', '7시30분', '8시00분', '8시30분', '9시00분', '9시30분', '10시00분',\n",
            "       '10시30분', '11시00분', '11시30분', '12시00분', '12시30분', '13시00분', '13시30분',\n",
            "       '14시00분', '14시30분', '15시00분', '15시30분', '16시00분', '16시30분', '17시00분',\n",
            "       '17시30분', '18시00분', '18시30분', '19시00분', '19시30분', '20시00분', '20시30분',\n",
            "       '21시00분', '21시30분', '22시00분', '22시30분', '23시00분', '23시30분', '00시00분',\n",
            "       '00시30분'],\n",
            "      dtype='object')\n",
            "지하철 승하차 정보 열 이름: Index(['사용월', '호선명', '지하철역', '04시-05시 승차인원', '04시-05시 하차인원', '05시-06시 승차인원',\n",
            "       '05시-06시 하차인원', '06시-07시 승차인원', '06시-07시 하차인원', '07시-08시 승차인원',\n",
            "       '07시-08시 하차인원', '08시-09시 승차인원', '08시-09시 하차인원', '09시-10시 승차인원',\n",
            "       '09시-10시 하차인원', '10시-11시 승차인원', '10시-11시 하차인원', '11시-12시 승차인원',\n",
            "       '11시-12시 하차인원', '12시-13시 승차인원', '12시-13시 하차인원', '13시-14시 승차인원',\n",
            "       '13시-14시 하차인원', '14시-15시 승차인원', '14시-15시 하차인원', '15시-16시 승차인원',\n",
            "       '15시-16시 하차인원', '16시-17시 승차인원', '16시-17시 하차인원', '17시-18시 승차인원',\n",
            "       '17시-18시 하차인원', '18시-19시 승차인원', '18시-19시 하차인원', '19시-20시 승차인원',\n",
            "       '19시-20시 하차인원', '20시-21시 승차인원', '20시-21시 하차인원', '21시-22시 승차인원',\n",
            "       '21시-22시 하차인원', '22시-23시 승차인원', '22시-23시 하차인원', '23시-24시 승차인원',\n",
            "       '23시-24시 하차인원', '00시-01시 승차인원', '00시-01시 하차인원', '01시-02시 승차인원',\n",
            "       '01시-02시 하차인원', '02시-03시 승차인원', '02시-03시 하차인원', '03시-04시 승차인원',\n",
            "       '03시-04시 하차인원', '작업일자'],\n",
            "      dtype='object')\n"
          ]
        }
      ]
    },
    {
      "cell_type": "code",
      "source": [
        "bus_boarding_info.info()"
      ],
      "metadata": {
        "colab": {
          "base_uri": "https://localhost:8080/"
        },
        "id": "z5-lW-MT1QMI",
        "outputId": "8836b08f-1d45-48ec-f663-7ed71d346161"
      },
      "execution_count": 55,
      "outputs": [
        {
          "output_type": "stream",
          "name": "stdout",
          "text": [
            "<class 'pandas.core.frame.DataFrame'>\n",
            "RangeIndex: 41810 entries, 0 to 41809\n",
            "Data columns (total 57 columns):\n",
            " #   Column      Non-Null Count  Dtype \n",
            "---  ------      --------------  ----- \n",
            " 0   사용년월        41810 non-null  int64 \n",
            " 1   노선번호        41810 non-null  object\n",
            " 2   노선명         41810 non-null  object\n",
            " 3   표준버스정류장ID   41810 non-null  int64 \n",
            " 4   버스정류장ARS번호  41810 non-null  object\n",
            " 5   역명          41810 non-null  object\n",
            " 6   24시승차총승객수   41810 non-null  int64 \n",
            " 7   24시하차총승객수   41810 non-null  int64 \n",
            " 8   1시승차총승객수    41810 non-null  int64 \n",
            " 9   1시하차총승객수    41810 non-null  int64 \n",
            " 10  2시승차총승객수    41810 non-null  int64 \n",
            " 11  2시하차총승객수    41810 non-null  int64 \n",
            " 12  3시승차총승객수    41810 non-null  int64 \n",
            " 13  3시하차총승객수    41810 non-null  int64 \n",
            " 14  4시승차총승객수    41810 non-null  int64 \n",
            " 15  4시하차총승객수    41810 non-null  int64 \n",
            " 16  5시승차총승객수    41810 non-null  int64 \n",
            " 17  5시하차총승객수    41810 non-null  int64 \n",
            " 18  6시승차총승객수    41810 non-null  int64 \n",
            " 19  6시하차총승객수    41810 non-null  int64 \n",
            " 20  7시승차총승객수    41810 non-null  int64 \n",
            " 21  7시하차총승객수    41810 non-null  int64 \n",
            " 22  8시승차총승객수    41810 non-null  int64 \n",
            " 23  8시하차총승객수    41810 non-null  int64 \n",
            " 24  9시승차총승객수    41810 non-null  int64 \n",
            " 25  9시하차총승객수    41810 non-null  int64 \n",
            " 26  10시승차총승객수   41810 non-null  int64 \n",
            " 27  10시하차총승객수   41810 non-null  int64 \n",
            " 28  11시승차총승객수   41810 non-null  int64 \n",
            " 29  11시하차총승객수   41810 non-null  int64 \n",
            " 30  12시승차총승객수   41810 non-null  int64 \n",
            " 31  12시하차총승객수   41810 non-null  int64 \n",
            " 32  13시승차총승객수   41810 non-null  int64 \n",
            " 33  13시하차총승객수   41810 non-null  int64 \n",
            " 34  14시승차총승객수   41810 non-null  int64 \n",
            " 35  14시하차총승객수   41810 non-null  int64 \n",
            " 36  15시승차총승객수   41810 non-null  int64 \n",
            " 37  15시하차총승객수   41810 non-null  int64 \n",
            " 38  16시승차총승객수   41810 non-null  int64 \n",
            " 39  16시하차총승객수   41810 non-null  int64 \n",
            " 40  17시승차총승객수   41810 non-null  int64 \n",
            " 41  17시하차총승객수   41810 non-null  int64 \n",
            " 42  18시승차총승객수   41810 non-null  int64 \n",
            " 43  18시하차총승객수   41810 non-null  int64 \n",
            " 44  19시승차총승객수   41810 non-null  int64 \n",
            " 45  19시하차총승객수   41810 non-null  int64 \n",
            " 46  20시승차총승객수   41810 non-null  int64 \n",
            " 47  20시하차총승객수   41810 non-null  int64 \n",
            " 48  21시승차총승객수   41810 non-null  int64 \n",
            " 49  21시하차총승객수   41810 non-null  int64 \n",
            " 50  22시승차총승객수   41810 non-null  int64 \n",
            " 51  22시하차총승객수   41810 non-null  int64 \n",
            " 52  23시승차총승객수   41810 non-null  int64 \n",
            " 53  23시하차총승객수   41810 non-null  int64 \n",
            " 54  교통수단타입코드    41810 non-null  int64 \n",
            " 55  교통수단타입명     41810 non-null  object\n",
            " 56  등록일자        41810 non-null  int64 \n",
            "dtypes: int64(52), object(5)\n",
            "memory usage: 18.2+ MB\n"
          ]
        }
      ]
    },
    {
      "cell_type": "markdown",
      "source": [
        "## 데이터 전처리"
      ],
      "metadata": {
        "id": "q6rI25ZcCtbD"
      }
    },
    {
      "cell_type": "code",
      "source": [
        "# 버스 승하차 정보 데이터 전처리\n",
        "bus_boarding_info.fillna(0, inplace=True)  # 결측치 0으로 대체\n",
        "\n",
        "# 버스 정류소 위치 정보 데이터 전처리\n",
        "bus_stop_location.dropna(subset=['STTN_NM', 'STTN_NO'], inplace=True)  # 주요 열의 결측치 제거\n",
        "\n",
        "# 지하철 혼잡도 정보 데이터 전처리\n",
        "subway_congestion.fillna(0, inplace=True)  # 결측치 0으로 대체\n",
        "\n",
        "# 지하철 승하차 정보 데이터 전처리\n",
        "subway_boarding_info.fillna(0, inplace=True)  # 결측치 0으로 대체"
      ],
      "metadata": {
        "id": "3ZGikb_c33hM"
      },
      "execution_count": 56,
      "outputs": []
    },
    {
      "cell_type": "code",
      "source": [
        "# 데이터셋 전처리 확인\n",
        "print(\"버스 승하차 정보:\", bus_boarding_info.head())\n",
        "print(\"버스 정류소 위치 정보:\", bus_stop_location.head())\n",
        "print(\"지하철 혼잡도 정보:\", subway_congestion.head())\n",
        "print(\"지하철 승하차 정보:\", subway_boarding_info.head())"
      ],
      "metadata": {
        "colab": {
          "base_uri": "https://localhost:8080/"
        },
        "id": "PloMidnu4fL4",
        "outputId": "8175013a-e6fd-4e89-a805-3bb18a2caff8"
      },
      "execution_count": 57,
      "outputs": [
        {
          "output_type": "stream",
          "name": "stdout",
          "text": [
            "버스 승하차 정보:      사용년월 노선번호                    노선명  표준버스정류장ID 버스정류장ARS번호  \\\n",
            "0  202404  N37  N37번(진관공영차고지~송파공영차고지)  100000001       1001   \n",
            "1  202404  470       470번(상암차고지~안골마을)  100000001       1001   \n",
            "2  202404  741      741번(진관차고지~헌인릉입구)  100000001       1001   \n",
            "3  202404  N37  N37번(송파공영차고지~진관공영차고지)  100000001       1001   \n",
            "4  202404  100         100번(하계동~용산구청)  100000002       1002   \n",
            "\n",
            "                   역명  24시승차총승객수  24시하차총승객수  1시승차총승객수  1시하차총승객수  ...  \\\n",
            "0      종로2가사거리(00089)          0          0         0         0  ...   \n",
            "1      종로2가사거리(00066)         80        140         3         0  ...   \n",
            "2      종로2가사거리(00075)        152        112       127       130  ...   \n",
            "3      종로2가사거리(00032)          6         24       228       195  ...   \n",
            "4  창경궁.서울대학교병원(00031)          0          0         0         0  ...   \n",
            "\n",
            "   20시하차총승객수  21시승차총승객수  21시하차총승객수  22시승차총승객수  22시하차총승객수  23시승차총승객수  \\\n",
            "0          0          0          0          0          0          0   \n",
            "1        330        421        297        370        253        288   \n",
            "2        301        332        293        299        299        220   \n",
            "3          0          0          0          0          0          0   \n",
            "4         28         86         21         37         31         17   \n",
            "\n",
            "   23시하차총승객수  교통수단타입코드  교통수단타입명      등록일자  \n",
            "0          0        51   서울심야버스  20240503  \n",
            "1        164        10   서울간선버스  20240503  \n",
            "2        176        10   서울간선버스  20240503  \n",
            "3          0        51   서울심야버스  20240503  \n",
            "4          2        10   서울간선버스  20240503  \n",
            "\n",
            "[5 rows x 57 columns]\n",
            "버스 정류소 위치 정보:     STDR_DE    NODE_ID  STTN_NO        STTN_NM      CRDNT_X    CRDNT_Y  \\\n",
            "0  20240101  100000001     1001        종로2가사거리  126.9877523  37.569806   \n",
            "1  20240101  100000002     1002    창경궁.서울대학교병원  126.9965206  37.579433   \n",
            "2  20240101  100000003     1003      명륜3가.성대입구  126.9982508  37.582580   \n",
            "3  20240101  100000004     1004       종로2가.삼일교  126.9876131  37.568579   \n",
            "4  20240101  100000005     1005  혜화동로터리.여운형활동터   127.001744  37.586243   \n",
            "\n",
            "   STTN_TY  Unnamed: 7  \n",
            "0      1.0         NaN  \n",
            "1      1.0         NaN  \n",
            "2      1.0         NaN  \n",
            "3      1.0         NaN  \n",
            "4      1.0         NaN  \n",
            "지하철 혼잡도 정보:    연번 요일구분  호선  역번호  출발역 상하구분  5시30분  6시00분  6시30분  7시00분  ...  20시00분  \\\n",
            "0   1   평일   1  150  서울역   상선    8.2   18.9   19.8   35.7  ...    19.4   \n",
            "1   2   평일   1  150  서울역   하선   11.1   10.7   15.7   23.5  ...    39.6   \n",
            "2   3   평일   1  151   시청   상선    8.0   13.3   16.9   29.2  ...    23.3   \n",
            "3   4   평일   1  151   시청   하선    9.1    9.9   17.7   22.7  ...    34.1   \n",
            "4   5   평일   1  152   종각   상선    7.8   11.7   10.6   19.5  ...    31.8   \n",
            "\n",
            "   20시30분  21시00분  21시30분  22시00분  22시30분  23시00분  23시30분  00시00분  00시30분  \n",
            "0    18.6    18.4    15.0    17.4    18.9    15.2    13.1     7.3     1.1  \n",
            "1    37.0    42.5    36.5    41.0    29.1    18.4    16.2     5.5     0.0  \n",
            "2    22.5    23.1    18.5    21.6    21.6    19.5    14.4     7.7     1.6  \n",
            "3    33.6    39.1    30.2    35.1    24.5    15.8    14.1     4.1     0.4  \n",
            "4    29.5    32.5    24.8    28.2    28.4    26.7    17.0     8.6     1.5  \n",
            "\n",
            "[5 rows x 45 columns]\n",
            "지하철 승하차 정보:       사용월  호선명 지하철역  04시-05시 승차인원  04시-05시 하차인원  05시-06시 승차인원  05시-06시 하차인원  \\\n",
            "0  202404  1호선  동대문           708             7         11309          2206   \n",
            "1  202404  1호선  동묘앞           231             1          3091           802   \n",
            "2  202404  1호선  서울역           658            24          8560          9158   \n",
            "3  202404  1호선   시청            94             2          2321          5550   \n",
            "4  202404  1호선  신설동           371            25          8785          2166   \n",
            "\n",
            "   06시-07시 승차인원  06시-07시 하차인원  07시-08시 승차인원  ...  23시-24시 하차인원  00시-01시 승차인원  \\\n",
            "0          9917          7632         16477  ...          9476           693   \n",
            "1          4051          5422          9024  ...          4900           151   \n",
            "2         14541         62765         43682  ...         14443          3203   \n",
            "3          4123         26788          7965  ...          4110           661   \n",
            "4         10319          9477         22808  ...          9376           423   \n",
            "\n",
            "   00시-01시 하차인원  01시-02시 승차인원  01시-02시 하차인원  02시-03시 승차인원  02시-03시 하차인원  \\\n",
            "0          3153             0           266             0             0   \n",
            "1          2459             2           322             0             0   \n",
            "2          3771             3           263             0             0   \n",
            "3          1172             3            40             1             0   \n",
            "4          3048             0             0             0             0   \n",
            "\n",
            "   03시-04시 승차인원  03시-04시 하차인원      작업일자  \n",
            "0             0             0  20240503  \n",
            "1             0             0  20240503  \n",
            "2             0             0  20240503  \n",
            "3             0             0  20240503  \n",
            "4             0             0  20240503  \n",
            "\n",
            "[5 rows x 52 columns]\n"
          ]
        }
      ]
    },
    {
      "cell_type": "markdown",
      "source": [
        "혼잡도 분석"
      ],
      "metadata": {
        "id": "Q8jn7FsuCvhL"
      }
    },
    {
      "cell_type": "code",
      "source": [
        "import pandas as pd\n",
        "import matplotlib.pyplot as plt\n",
        "\n",
        "# 파일 경로 설정\n",
        "file_path = \"버스승하차인원정보.csv\"\n",
        "\n",
        "# 데이터 로드\n",
        "bus_boarding_info = pd.read_csv(file_path, low_memory=False, encoding='cp949')\n",
        "\n",
        "# 데이터셋 확인\n",
        "print(\"버스 승하차 정보 열 이름:\", bus_boarding_info.columns)\n",
        "print(bus_boarding_info.head())\n",
        "\n",
        "# 시간대별 승차 및 하차 총 승객 수 열 이름 확인\n",
        "boarding_columns = [col for col in bus_boarding_info.columns if '승차총승객수' in col]\n",
        "alighting_columns = [col for col in bus_boarding_info.columns if '하차총승객수' in col]\n",
        "\n",
        "# 각 열 이름에서 시간대 추출\n",
        "time_columns = [int(col.split('시')[0]) for col in boarding_columns]\n",
        "\n",
        "# 시간대별로 승차 및 하차 인원 합산\n",
        "bus_boarding_info['총승차인원'] = bus_boarding_info[boarding_columns].sum(axis=1)\n",
        "bus_boarding_info['총하차인원'] = bus_boarding_info[alighting_columns].sum(axis=1)\n",
        "\n",
        "# 시간대별 혼잡도 계산 (승차인원 - 하차인원)\n",
        "bus_boarding_info['혼잡도'] = bus_boarding_info['총승차인원'] - bus_boarding_info['총하차인원']\n",
        "\n",
        "# 시간대별 혼잡도 평균 계산\n",
        "congestion_by_time = []\n",
        "for hour in range(24):  # 0시부터 23시까지\n",
        "    boarding_col = f\"{hour}시승차총승객수\"\n",
        "    alighting_col = f\"{hour}시하차총승객수\"\n",
        "    if boarding_col in bus_boarding_info.columns and alighting_col in bus_boarding_info.columns:\n",
        "        mean_congestion = bus_boarding_info[boarding_col].mean() - bus_boarding_info[alighting_col].mean()\n",
        "        congestion_by_time.append(mean_congestion)\n",
        "    else:\n",
        "        congestion_by_time.append(0)\n",
        "\n",
        "# 시간대별 혼잡도 데이터프레임 생성\n",
        "bus_congestion_by_time = pd.DataFrame({\n",
        "    '시간대': range(24),\n",
        "    '혼잡도': congestion_by_time\n",
        "})\n",
        "\n",
        "# 시간대별 버스 혼잡도 시각화\n",
        "plt.figure(figsize=(12, 6))\n",
        "plt.plot(bus_congestion_by_time['시간대'], bus_congestion_by_time['혼잡도'], marker='o')\n",
        "plt.title('시간대별 버스 혼잡도')\n",
        "plt.xlabel('시간대')\n",
        "plt.ylabel('혼잡도')\n",
        "plt.grid(True)\n",
        "plt.show()\n"
      ],
      "metadata": {
        "colab": {
          "base_uri": "https://localhost:8080/",
          "height": 1000
        },
        "id": "PJbrToe24iun",
        "outputId": "486746e3-a3c9-41ce-89d5-3f7989f2b57b"
      },
      "execution_count": 67,
      "outputs": [
        {
          "output_type": "stream",
          "name": "stdout",
          "text": [
            "버스 승하차 정보 열 이름: Index(['사용년월', '노선번호', '노선명', '표준버스정류장ID', '버스정류장ARS번호', '역명', '24시승차총승객수',\n",
            "       '24시하차총승객수', '1시승차총승객수', '1시하차총승객수', '2시승차총승객수', '2시하차총승객수', '3시승차총승객수',\n",
            "       '3시하차총승객수', '4시승차총승객수', '4시하차총승객수', '5시승차총승객수', '5시하차총승객수', '6시승차총승객수',\n",
            "       '6시하차총승객수', '7시승차총승객수', '7시하차총승객수', '8시승차총승객수', '8시하차총승객수', '9시승차총승객수',\n",
            "       '9시하차총승객수', '10시승차총승객수', '10시하차총승객수', '11시승차총승객수', '11시하차총승객수',\n",
            "       '12시승차총승객수', '12시하차총승객수', '13시승차총승객수', '13시하차총승객수', '14시승차총승객수',\n",
            "       '14시하차총승객수', '15시승차총승객수', '15시하차총승객수', '16시승차총승객수', '16시하차총승객수',\n",
            "       '17시승차총승객수', '17시하차총승객수', '18시승차총승객수', '18시하차총승객수', '19시승차총승객수',\n",
            "       '19시하차총승객수', '20시승차총승객수', '20시하차총승객수', '21시승차총승객수', '21시하차총승객수',\n",
            "       '22시승차총승객수', '22시하차총승객수', '23시승차총승객수', '23시하차총승객수', '교통수단타입코드',\n",
            "       '교통수단타입명', '등록일자'],\n",
            "      dtype='object')\n",
            "     사용년월 노선번호                    노선명  표준버스정류장ID 버스정류장ARS번호  \\\n",
            "0  202404  N37  N37번(진관공영차고지~송파공영차고지)  100000001       1001   \n",
            "1  202404  470       470번(상암차고지~안골마을)  100000001       1001   \n",
            "2  202404  741      741번(진관차고지~헌인릉입구)  100000001       1001   \n",
            "3  202404  N37  N37번(송파공영차고지~진관공영차고지)  100000001       1001   \n",
            "4  202404  100         100번(하계동~용산구청)  100000002       1002   \n",
            "\n",
            "                   역명  24시승차총승객수  24시하차총승객수  1시승차총승객수  1시하차총승객수  ...  \\\n",
            "0      종로2가사거리(00089)          0          0         0         0  ...   \n",
            "1      종로2가사거리(00066)         80        140         3         0  ...   \n",
            "2      종로2가사거리(00075)        152        112       127       130  ...   \n",
            "3      종로2가사거리(00032)          6         24       228       195  ...   \n",
            "4  창경궁.서울대학교병원(00031)          0          0         0         0  ...   \n",
            "\n",
            "   20시하차총승객수  21시승차총승객수  21시하차총승객수  22시승차총승객수  22시하차총승객수  23시승차총승객수  \\\n",
            "0          0          0          0          0          0          0   \n",
            "1        330        421        297        370        253        288   \n",
            "2        301        332        293        299        299        220   \n",
            "3          0          0          0          0          0          0   \n",
            "4         28         86         21         37         31         17   \n",
            "\n",
            "   23시하차총승객수  교통수단타입코드  교통수단타입명      등록일자  \n",
            "0          0        51   서울심야버스  20240503  \n",
            "1        164        10   서울간선버스  20240503  \n",
            "2        176        10   서울간선버스  20240503  \n",
            "3          0        51   서울심야버스  20240503  \n",
            "4          2        10   서울간선버스  20240503  \n",
            "\n",
            "[5 rows x 57 columns]\n"
          ]
        },
        {
          "output_type": "stream",
          "name": "stderr",
          "text": [
            "/usr/local/lib/python3.10/dist-packages/IPython/core/pylabtools.py:151: UserWarning: Glyph 54844 (\\N{HANGUL SYLLABLE HON}) missing from current font.\n",
            "  fig.canvas.print_figure(bytes_io, **kw)\n",
            "/usr/local/lib/python3.10/dist-packages/IPython/core/pylabtools.py:151: UserWarning: Glyph 51105 (\\N{HANGUL SYLLABLE JAB}) missing from current font.\n",
            "  fig.canvas.print_figure(bytes_io, **kw)\n",
            "/usr/local/lib/python3.10/dist-packages/IPython/core/pylabtools.py:151: UserWarning: Glyph 46020 (\\N{HANGUL SYLLABLE DO}) missing from current font.\n",
            "  fig.canvas.print_figure(bytes_io, **kw)\n",
            "/usr/local/lib/python3.10/dist-packages/IPython/core/pylabtools.py:151: UserWarning: Glyph 49884 (\\N{HANGUL SYLLABLE SI}) missing from current font.\n",
            "  fig.canvas.print_figure(bytes_io, **kw)\n",
            "/usr/local/lib/python3.10/dist-packages/IPython/core/pylabtools.py:151: UserWarning: Glyph 44036 (\\N{HANGUL SYLLABLE GAN}) missing from current font.\n",
            "  fig.canvas.print_figure(bytes_io, **kw)\n",
            "/usr/local/lib/python3.10/dist-packages/IPython/core/pylabtools.py:151: UserWarning: Glyph 45824 (\\N{HANGUL SYLLABLE DAE}) missing from current font.\n",
            "  fig.canvas.print_figure(bytes_io, **kw)\n",
            "/usr/local/lib/python3.10/dist-packages/IPython/core/pylabtools.py:151: UserWarning: Glyph 48324 (\\N{HANGUL SYLLABLE BYEOL}) missing from current font.\n",
            "  fig.canvas.print_figure(bytes_io, **kw)\n",
            "/usr/local/lib/python3.10/dist-packages/IPython/core/pylabtools.py:151: UserWarning: Glyph 48260 (\\N{HANGUL SYLLABLE BEO}) missing from current font.\n",
            "  fig.canvas.print_figure(bytes_io, **kw)\n",
            "/usr/local/lib/python3.10/dist-packages/IPython/core/pylabtools.py:151: UserWarning: Glyph 49828 (\\N{HANGUL SYLLABLE SEU}) missing from current font.\n",
            "  fig.canvas.print_figure(bytes_io, **kw)\n"
          ]
        },
        {
          "output_type": "display_data",
          "data": {
            "text/plain": [
              "<Figure size 1200x600 with 1 Axes>"
            ],
            "image/png": "[encoded data removed]"
          },
          "metadata": {}
        }
      ]
    },
    {
      "cell_type": "code",
      "source": [
        "import pandas as pd\n",
        "import matplotlib.pyplot as plt\n",
        "\n",
        "# 파일 경로 설정\n",
        "file_path = \"지하철승하차인원정보.csv\"\n",
        "\n",
        "# 데이터 로드\n",
        "subway_boarding_info = pd.read_csv(file_path)\n",
        "\n",
        "# 데이터셋 확인\n",
        "print(\"지하철 승하차 정보 열 이름:\", subway_boarding_info.columns)\n",
        "print(subway_boarding_info.head())\n",
        "\n",
        "# 시간대별 승차 및 하차 총 승객 수 열 이름 확인\n",
        "boarding_columns = [col for col in subway_boarding_info.columns if '승차' in col]\n",
        "alighting_columns = [col for col in subway_boarding_info.columns if '하차' in col]\n",
        "\n",
        "# 각 열 이름에서 시간대 추출\n",
        "time_columns = [int(col.split('시')[0]) for col in boarding_columns]\n",
        "\n",
        "# 시간대별로 승차 및 하차 인원 합산\n",
        "congestion_by_time = []\n",
        "for hour in range(24):\n",
        "    boarding_col = f\"{str(hour).zfill(2)}시 승차인원\"\n",
        "    alighting_col = f\"{str(hour).zfill(2)}시 하차인원\"\n",
        "    if boarding_col in subway_boarding_info.columns and alighting_col in subway_boarding_info.columns:\n",
        "        mean_congestion = subway_boarding_info[boarding_col].sum() - subway_boarding_info[alighting_col].sum()\n",
        "        congestion_by_time.append(mean_congestion)\n",
        "    else:\n",
        "        congestion_by_time.append(0)\n",
        "\n",
        "# 시간대별 혼잡도 데이터프레임 생성\n",
        "subway_congestion_by_time = pd.DataFrame({\n",
        "    '시간대': range(24),\n",
        "    '혼잡도': congestion_by_time\n",
        "})\n",
        "\n",
        "# 시간대별 지하철 혼잡도 시각화\n",
        "plt.figure(figsize=(12, 6))\n",
        "plt.plot(subway_congestion_by_time['시간대'], subway_congestion_by_time['혼잡도'], marker='o')\n",
        "plt.title('시간대별 지하철 혼잡도')\n",
        "plt.xlabel('시간대')\n",
        "plt.ylabel('혼잡도 지수')\n",
        "plt.grid(True)\n",
        "plt.show()\n",
        "# 얘 문제임 시간 못읽음"
      ],
      "metadata": {
        "colab": {
          "base_uri": "https://localhost:8080/",
          "height": 1000
        },
        "id": "ID9tmJHU-Jdu",
        "outputId": "d5d89c25-6e9f-4e7a-c030-11277ef4914e"
      },
      "execution_count": 77,
      "outputs": [
        {
          "output_type": "stream",
          "name": "stdout",
          "text": [
            "지하철 승하차 정보 열 이름: Index(['사용월', '호선명', '지하철역', '04시-05시 승차인원', '04시-05시 하차인원', '05시-06시 승차인원',\n",
            "       '05시-06시 하차인원', '06시-07시 승차인원', '06시-07시 하차인원', '07시-08시 승차인원',\n",
            "       '07시-08시 하차인원', '08시-09시 승차인원', '08시-09시 하차인원', '09시-10시 승차인원',\n",
            "       '09시-10시 하차인원', '10시-11시 승차인원', '10시-11시 하차인원', '11시-12시 승차인원',\n",
            "       '11시-12시 하차인원', '12시-13시 승차인원', '12시-13시 하차인원', '13시-14시 승차인원',\n",
            "       '13시-14시 하차인원', '14시-15시 승차인원', '14시-15시 하차인원', '15시-16시 승차인원',\n",
            "       '15시-16시 하차인원', '16시-17시 승차인원', '16시-17시 하차인원', '17시-18시 승차인원',\n",
            "       '17시-18시 하차인원', '18시-19시 승차인원', '18시-19시 하차인원', '19시-20시 승차인원',\n",
            "       '19시-20시 하차인원', '20시-21시 승차인원', '20시-21시 하차인원', '21시-22시 승차인원',\n",
            "       '21시-22시 하차인원', '22시-23시 승차인원', '22시-23시 하차인원', '23시-24시 승차인원',\n",
            "       '23시-24시 하차인원', '00시-01시 승차인원', '00시-01시 하차인원', '01시-02시 승차인원',\n",
            "       '01시-02시 하차인원', '02시-03시 승차인원', '02시-03시 하차인원', '03시-04시 승차인원',\n",
            "       '03시-04시 하차인원', '작업일자'],\n",
            "      dtype='object')\n",
            "      사용월  호선명 지하철역  04시-05시 승차인원  04시-05시 하차인원  05시-06시 승차인원  05시-06시 하차인원  \\\n",
            "0  202404  1호선  동대문           708             7         11309          2206   \n",
            "1  202404  1호선  동묘앞           231             1          3091           802   \n",
            "2  202404  1호선  서울역           658            24          8560          9158   \n",
            "3  202404  1호선   시청            94             2          2321          5550   \n",
            "4  202404  1호선  신설동           371            25          8785          2166   \n",
            "\n",
            "   06시-07시 승차인원  06시-07시 하차인원  07시-08시 승차인원  ...  23시-24시 하차인원  00시-01시 승차인원  \\\n",
            "0          9917          7632         16477  ...          9476           693   \n",
            "1          4051          5422          9024  ...          4900           151   \n",
            "2         14541         62765         43682  ...         14443          3203   \n",
            "3          4123         26788          7965  ...          4110           661   \n",
            "4         10319          9477         22808  ...          9376           423   \n",
            "\n",
            "   00시-01시 하차인원  01시-02시 승차인원  01시-02시 하차인원  02시-03시 승차인원  02시-03시 하차인원  \\\n",
            "0          3153             0           266             0             0   \n",
            "1          2459             2           322             0             0   \n",
            "2          3771             3           263             0             0   \n",
            "3          1172             3            40             1             0   \n",
            "4          3048             0             0             0             0   \n",
            "\n",
            "   03시-04시 승차인원  03시-04시 하차인원      작업일자  \n",
            "0             0             0  20240503  \n",
            "1             0             0  20240503  \n",
            "2             0             0  20240503  \n",
            "3             0             0  20240503  \n",
            "4             0             0  20240503  \n",
            "\n",
            "[5 rows x 52 columns]\n"
          ]
        },
        {
          "output_type": "stream",
          "name": "stderr",
          "text": [
            "/usr/local/lib/python3.10/dist-packages/IPython/core/pylabtools.py:151: UserWarning: Glyph 54844 (\\N{HANGUL SYLLABLE HON}) missing from current font.\n",
            "  fig.canvas.print_figure(bytes_io, **kw)\n",
            "/usr/local/lib/python3.10/dist-packages/IPython/core/pylabtools.py:151: UserWarning: Glyph 51105 (\\N{HANGUL SYLLABLE JAB}) missing from current font.\n",
            "  fig.canvas.print_figure(bytes_io, **kw)\n",
            "/usr/local/lib/python3.10/dist-packages/IPython/core/pylabtools.py:151: UserWarning: Glyph 46020 (\\N{HANGUL SYLLABLE DO}) missing from current font.\n",
            "  fig.canvas.print_figure(bytes_io, **kw)\n",
            "/usr/local/lib/python3.10/dist-packages/IPython/core/pylabtools.py:151: UserWarning: Glyph 51648 (\\N{HANGUL SYLLABLE JI}) missing from current font.\n",
            "  fig.canvas.print_figure(bytes_io, **kw)\n",
            "/usr/local/lib/python3.10/dist-packages/IPython/core/pylabtools.py:151: UserWarning: Glyph 49688 (\\N{HANGUL SYLLABLE SU}) missing from current font.\n",
            "  fig.canvas.print_figure(bytes_io, **kw)\n",
            "/usr/local/lib/python3.10/dist-packages/IPython/core/pylabtools.py:151: UserWarning: Glyph 49884 (\\N{HANGUL SYLLABLE SI}) missing from current font.\n",
            "  fig.canvas.print_figure(bytes_io, **kw)\n",
            "/usr/local/lib/python3.10/dist-packages/IPython/core/pylabtools.py:151: UserWarning: Glyph 44036 (\\N{HANGUL SYLLABLE GAN}) missing from current font.\n",
            "  fig.canvas.print_figure(bytes_io, **kw)\n",
            "/usr/local/lib/python3.10/dist-packages/IPython/core/pylabtools.py:151: UserWarning: Glyph 45824 (\\N{HANGUL SYLLABLE DAE}) missing from current font.\n",
            "  fig.canvas.print_figure(bytes_io, **kw)\n",
            "/usr/local/lib/python3.10/dist-packages/IPython/core/pylabtools.py:151: UserWarning: Glyph 48324 (\\N{HANGUL SYLLABLE BYEOL}) missing from current font.\n",
            "  fig.canvas.print_figure(bytes_io, **kw)\n",
            "/usr/local/lib/python3.10/dist-packages/IPython/core/pylabtools.py:151: UserWarning: Glyph 54616 (\\N{HANGUL SYLLABLE HA}) missing from current font.\n",
            "  fig.canvas.print_figure(bytes_io, **kw)\n",
            "/usr/local/lib/python3.10/dist-packages/IPython/core/pylabtools.py:151: UserWarning: Glyph 52384 (\\N{HANGUL SYLLABLE CEOL}) missing from current font.\n",
            "  fig.canvas.print_figure(bytes_io, **kw)\n"
          ]
        },
        {
          "output_type": "display_data",
          "data": {
            "text/plain": [
              "<Figure size 1200x600 with 1 Axes>"
            ],
            "image/png": "[encoded data removed]"
          },
          "metadata": {}
        }
      ]
    },
    {
      "cell_type": "code",
      "source": [],
      "metadata": {
        "id": "DDBUHiYx_8SJ"
      },
      "execution_count": null,
      "outputs": []
    }
  ]
}